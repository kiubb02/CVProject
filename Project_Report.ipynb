{
 "cells": [
  {
   "cell_type": "markdown",
   "metadata": {
    "collapsed": true,
    "pycharm": {
     "name": "#%% md\n"
    }
   },
   "source": [
    "# Project Report\n",
    "\n",
    "Team name: /\n",
    "Team members:\n",
    "    Angelika Führer, if20b090@technikum-wien.at\n",
    "    Chiara Babiak, if20b061@technikum-wien.at\n",
    "    Clemens Rinner, if20b279@technikum-wien.at\n",
    "\n",
    "The chosen dataset of this group : Labelled Images of Faces\n",
    "(https://susanqq.github.io/UTKFace/)"
   ]
  },
  {
   "cell_type": "markdown",
   "source": [
    "## Description of Dataset\n",
    "\n",
    "Generally the Dataset consists of labelled Images, which have the labels of age, gender, ethnicity and date&time of when the Image was collected/added to the Dataset. Images themselves are taken from the internet and are therefore not coming from a private collection or database leading to them being labelled by the DEX algorithm and double-checked by a human annotator.\n",
    "\n",
    "All in all there are about 20000 images available in the Set which show different poses and facial expressions of various age/gender/ethnicity groupings.\n",
    "\n",
    "In our case: age, gender and ethnicity are the three most important features for the model and general working conditions of the dataset.\n",
    "\n",
    "For such a diverse Dataset it is important for it to be balanced enough so that each feature is represented in the same amount according to the size of the Dataset.\n"
   ],
   "metadata": {
    "collapsed": false,
    "pycharm": {
     "name": "#%% md\n"
    }
   }
  },
  {
   "cell_type": "markdown",
   "source": [
    "## How does the project relate to real applications?"
   ],
   "metadata": {
    "collapsed": false,
    "pycharm": {
     "name": "#%% md\n"
    }
   }
  },
  {
   "cell_type": "markdown",
   "source": [
    "## Encountered Problems and their Solutions?"
   ],
   "metadata": {
    "collapsed": false,
    "pycharm": {
     "name": "#%% md\n"
    }
   }
  },
  {
   "cell_type": "markdown",
   "source": [
    "## Code Description\n",
    "### What did we do and why did we do that ?"
   ],
   "metadata": {
    "collapsed": false,
    "pycharm": {
     "name": "#%% md\n"
    }
   }
  },
  {
   "cell_type": "code",
   "execution_count": null,
   "outputs": [],
   "source": [],
   "metadata": {
    "collapsed": false,
    "pycharm": {
     "name": "#%%\n"
    }
   }
  }
 ],
 "metadata": {
  "kernelspec": {
   "display_name": "Python 3",
   "language": "python",
   "name": "python3"
  },
  "language_info": {
   "codemirror_mode": {
    "name": "ipython",
    "version": 2
   },
   "file_extension": ".py",
   "mimetype": "text/x-python",
   "name": "python",
   "nbconvert_exporter": "python",
   "pygments_lexer": "ipython2",
   "version": "2.7.6"
  }
 },
 "nbformat": 4,
 "nbformat_minor": 0
}